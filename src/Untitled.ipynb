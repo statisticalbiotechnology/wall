{
 "cells": [
  {
   "cell_type": "code",
   "execution_count": 16,
   "metadata": {},
   "outputs": [
    {
     "data": {
      "text/html": [
       "<style>.container { width:100% !important; }</style>"
      ],
      "text/plain": [
       "<IPython.core.display.HTML object>"
      ]
     },
     "metadata": {},
     "output_type": "display_data"
    }
   ],
   "source": [
    "import pandas as pd\n",
    "import sys\n",
    "from IPython.core.display import display, HTML\n",
    "display(HTML(\"<style>.container { width:100% !important; }</style>\"))"
   ]
  },
  {
   "cell_type": "code",
   "execution_count": 19,
   "metadata": {},
   "outputs": [
    {
     "data": {
      "text/html": [
       "<div>\n",
       "<style scoped>\n",
       "    .dataframe tbody tr th:only-of-type {\n",
       "        vertical-align: middle;\n",
       "    }\n",
       "\n",
       "    .dataframe tbody tr th {\n",
       "        vertical-align: top;\n",
       "    }\n",
       "\n",
       "    .dataframe thead th {\n",
       "        text-align: right;\n",
       "    }\n",
       "</style>\n",
       "<table border=\"1\" class=\"dataframe\">\n",
       "  <thead>\n",
       "    <tr style=\"text-align: right;\">\n",
       "      <th></th>\n",
       "      <th>name</th>\n",
       "      <th>species</th>\n",
       "    </tr>\n",
       "    <tr>\n",
       "      <th>id</th>\n",
       "      <th></th>\n",
       "      <th></th>\n",
       "    </tr>\n",
       "  </thead>\n",
       "  <tbody>\n",
       "    <tr>\n",
       "      <th>R-BTA-73843</th>\n",
       "      <td>5-Phosphoribose 1-diphosphate biosynthesis</td>\n",
       "      <td>Bos taurus</td>\n",
       "    </tr>\n",
       "    <tr>\n",
       "      <th>R-BTA-1971475</th>\n",
       "      <td>A tetrasaccharide linker sequence is required ...</td>\n",
       "      <td>Bos taurus</td>\n",
       "    </tr>\n",
       "    <tr>\n",
       "      <th>R-BTA-1369062</th>\n",
       "      <td>ABC transporters in lipid homeostasis</td>\n",
       "      <td>Bos taurus</td>\n",
       "    </tr>\n",
       "    <tr>\n",
       "      <th>R-BTA-382556</th>\n",
       "      <td>ABC-family proteins mediated transport</td>\n",
       "      <td>Bos taurus</td>\n",
       "    </tr>\n",
       "    <tr>\n",
       "      <th>R-BTA-9033807</th>\n",
       "      <td>ABO blood group biosynthesis</td>\n",
       "      <td>Bos taurus</td>\n",
       "    </tr>\n",
       "    <tr>\n",
       "      <th>...</th>\n",
       "      <td>...</td>\n",
       "      <td>...</td>\n",
       "    </tr>\n",
       "    <tr>\n",
       "      <th>R-XTR-72312</th>\n",
       "      <td>rRNA processing</td>\n",
       "      <td>Xenopus tropicalis</td>\n",
       "    </tr>\n",
       "    <tr>\n",
       "      <th>R-XTR-8868773</th>\n",
       "      <td>rRNA processing in the nucleus and cytosol</td>\n",
       "      <td>Xenopus tropicalis</td>\n",
       "    </tr>\n",
       "    <tr>\n",
       "      <th>R-XTR-191859</th>\n",
       "      <td>snRNP Assembly</td>\n",
       "      <td>Xenopus tropicalis</td>\n",
       "    </tr>\n",
       "    <tr>\n",
       "      <th>R-XTR-379724</th>\n",
       "      <td>tRNA Aminoacylation</td>\n",
       "      <td>Xenopus tropicalis</td>\n",
       "    </tr>\n",
       "    <tr>\n",
       "      <th>R-XTR-199992</th>\n",
       "      <td>trans-Golgi Network Vesicle Budding</td>\n",
       "      <td>Xenopus tropicalis</td>\n",
       "    </tr>\n",
       "  </tbody>\n",
       "</table>\n",
       "<p>21012 rows × 2 columns</p>\n",
       "</div>"
      ],
      "text/plain": [
       "                                                            name  \\\n",
       "id                                                                 \n",
       "R-BTA-73843           5-Phosphoribose 1-diphosphate biosynthesis   \n",
       "R-BTA-1971475  A tetrasaccharide linker sequence is required ...   \n",
       "R-BTA-1369062              ABC transporters in lipid homeostasis   \n",
       "R-BTA-382556              ABC-family proteins mediated transport   \n",
       "R-BTA-9033807                       ABO blood group biosynthesis   \n",
       "...                                                          ...   \n",
       "R-XTR-72312                                      rRNA processing   \n",
       "R-XTR-8868773         rRNA processing in the nucleus and cytosol   \n",
       "R-XTR-191859                                      snRNP Assembly   \n",
       "R-XTR-379724                                 tRNA Aminoacylation   \n",
       "R-XTR-199992                 trans-Golgi Network Vesicle Budding   \n",
       "\n",
       "                          species  \n",
       "id                                 \n",
       "R-BTA-73843            Bos taurus  \n",
       "R-BTA-1971475          Bos taurus  \n",
       "R-BTA-1369062          Bos taurus  \n",
       "R-BTA-382556           Bos taurus  \n",
       "R-BTA-9033807          Bos taurus  \n",
       "...                           ...  \n",
       "R-XTR-72312    Xenopus tropicalis  \n",
       "R-XTR-8868773  Xenopus tropicalis  \n",
       "R-XTR-191859   Xenopus tropicalis  \n",
       "R-XTR-379724   Xenopus tropicalis  \n",
       "R-XTR-199992   Xenopus tropicalis  \n",
       "\n",
       "[21012 rows x 2 columns]"
      ]
     },
     "execution_count": 19,
     "metadata": {},
     "output_type": "execute_result"
    }
   ],
   "source": [
    "csv_file = pd.read_csv('../data/ReactomePathways.txt', sep='\\t', index_col = 0, header=None, names=['id', 'name', 'species'])\n",
    "csv_file"
   ]
  },
  {
   "cell_type": "code",
   "execution_count": 22,
   "metadata": {},
   "outputs": [],
   "source": [
    "humans = csv_file.loc[csv_file['species'] == 'Homo sapiens']"
   ]
  },
  {
   "cell_type": "code",
   "execution_count": 31,
   "metadata": {},
   "outputs": [],
   "source": [
    "relation_file = pd.read_csv('../data/ReactomePathwaysRelation.txt', index_col = 0, sep='\\t', header=None, names=['parent', 'child'])\n",
    "new_relation = relation_file[relation_file.index.str.startswith('R-HSA')]"
   ]
  },
  {
   "cell_type": "code",
   "execution_count": 32,
   "metadata": {},
   "outputs": [],
   "source": [
    "new_relation.to_csv('../data/ReactomePathwaysRelationHuman.txt', sep='\\t', header=None)"
   ]
  },
  {
   "cell_type": "code",
   "execution_count": 24,
   "metadata": {},
   "outputs": [],
   "source": [
    "humans.to_csv('../data/ReactomePathwaysHuman.txt', sep='\\t', header=None)"
   ]
  }
 ],
 "metadata": {
  "kernelspec": {
   "display_name": "Python 3",
   "language": "python",
   "name": "python3"
  },
  "language_info": {
   "codemirror_mode": {
    "name": "ipython",
    "version": 3
   },
   "file_extension": ".py",
   "mimetype": "text/x-python",
   "name": "python",
   "nbconvert_exporter": "python",
   "pygments_lexer": "ipython3",
   "version": "3.7.7"
  }
 },
 "nbformat": 4,
 "nbformat_minor": 2
}
