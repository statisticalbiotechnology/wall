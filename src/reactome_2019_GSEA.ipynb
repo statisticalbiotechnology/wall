{
 "cells": [
  {
   "cell_type": "code",
   "execution_count": 1,
   "metadata": {},
   "outputs": [],
   "source": [
    "import pandas as pd\n",
    "import numpy as np\n"
   ]
  },
  {
   "cell_type": "code",
   "execution_count": 2,
   "metadata": {},
   "outputs": [],
   "source": [
    "cluster2 = pd.read_csv('GSEA_/adj_2/gseapy.gsea.gene_set.report.csv', index_col = 0)\n",
    "cluster5 = pd.read_csv('GSEA_/adj_5/gseapy.gsea.gene_set.report.csv', index_col = 0)\n",
    "cluster7 = pd.read_csv('GSEA_/adj_7/gseapy.gsea.gene_set.report.csv', index_col = 0)\n",
    "cluster9 = pd.read_csv('GSEA_/adj_9/gseapy.gsea.gene_set.report.csv', index_col = 0)"
   ]
  },
  {
   "cell_type": "code",
   "execution_count": 15,
   "metadata": {},
   "outputs": [],
   "source": [
    "gsea_df = pd.DataFrame(index=cluster2.index)\n",
    "gsea_df[\"IntClust 2\"] = cluster2[\"fdr\"].apply(lambda x: 5.0 if x == 0.0 else -np.log10(x))\n",
    "gsea_df[\"IntClust 5\"] = cluster5[\"fdr\"].apply(lambda x: 5.0 if x == 0.0 else -np.log10(x))\n",
    "gsea_df[\"IntClust 7\"] = cluster7[\"fdr\"].apply(lambda x: 5.0 if x == 0.0 else -np.log10(x))\n",
    "gsea_df[\"IntClust 9\"] = cluster9[\"fdr\"].apply(lambda x: 5.0 if x == 0.0 else -np.log10(x))"
   ]
  },
  {
   "cell_type": "code",
   "execution_count": 16,
   "metadata": {
    "scrolled": false
   },
   "outputs": [
    {
     "data": {
      "text/html": [
       "<div>\n",
       "<style scoped>\n",
       "    .dataframe tbody tr th:only-of-type {\n",
       "        vertical-align: middle;\n",
       "    }\n",
       "\n",
       "    .dataframe tbody tr th {\n",
       "        vertical-align: top;\n",
       "    }\n",
       "\n",
       "    .dataframe thead th {\n",
       "        text-align: right;\n",
       "    }\n",
       "</style>\n",
       "<table border=\"1\" class=\"dataframe\">\n",
       "  <thead>\n",
       "    <tr style=\"text-align: right;\">\n",
       "      <th></th>\n",
       "      <th>IntClust 2</th>\n",
       "      <th>IntClust 5</th>\n",
       "      <th>IntClust 7</th>\n",
       "      <th>IntClust 9</th>\n",
       "    </tr>\n",
       "    <tr>\n",
       "      <th>Term</th>\n",
       "      <th></th>\n",
       "      <th></th>\n",
       "      <th></th>\n",
       "      <th></th>\n",
       "    </tr>\n",
       "  </thead>\n",
       "  <tbody>\n",
       "    <tr>\n",
       "      <th>Activation of ATR in response to replication stress</th>\n",
       "      <td>1.565693</td>\n",
       "      <td>1.554291</td>\n",
       "      <td>2.864350</td>\n",
       "      <td>5.000000</td>\n",
       "    </tr>\n",
       "    <tr>\n",
       "      <th>DNA strand elongation</th>\n",
       "      <td>2.997057</td>\n",
       "      <td>1.623750</td>\n",
       "      <td>2.696667</td>\n",
       "      <td>5.000000</td>\n",
       "    </tr>\n",
       "    <tr>\n",
       "      <th>Signal Transduction</th>\n",
       "      <td>0.796444</td>\n",
       "      <td>5.000000</td>\n",
       "      <td>0.856422</td>\n",
       "      <td>5.000000</td>\n",
       "    </tr>\n",
       "    <tr>\n",
       "      <th>Polo-like kinase mediated events</th>\n",
       "      <td>1.189150</td>\n",
       "      <td>1.172069</td>\n",
       "      <td>2.835924</td>\n",
       "      <td>5.000000</td>\n",
       "    </tr>\n",
       "    <tr>\n",
       "      <th>Mitochondrial translation termination</th>\n",
       "      <td>0.858228</td>\n",
       "      <td>1.294622</td>\n",
       "      <td>0.368472</td>\n",
       "      <td>5.000000</td>\n",
       "    </tr>\n",
       "    <tr>\n",
       "      <th>...</th>\n",
       "      <td>...</td>\n",
       "      <td>...</td>\n",
       "      <td>...</td>\n",
       "      <td>...</td>\n",
       "    </tr>\n",
       "    <tr>\n",
       "      <th>Interleukin-7 signaling</th>\n",
       "      <td>3.781075</td>\n",
       "      <td>0.198460</td>\n",
       "      <td>0.709057</td>\n",
       "      <td>0.001990</td>\n",
       "    </tr>\n",
       "    <tr>\n",
       "      <th>Interconversion of 2-oxoglutarate and 2-hydroxyglutarate</th>\n",
       "      <td>0.546591</td>\n",
       "      <td>0.293162</td>\n",
       "      <td>0.276596</td>\n",
       "      <td>0.001405</td>\n",
       "    </tr>\n",
       "    <tr>\n",
       "      <th>Platelet calcium homeostasis</th>\n",
       "      <td>1.006915</td>\n",
       "      <td>0.198949</td>\n",
       "      <td>0.034123</td>\n",
       "      <td>0.001119</td>\n",
       "    </tr>\n",
       "    <tr>\n",
       "      <th>betaKlotho-mediated ligand binding</th>\n",
       "      <td>0.107609</td>\n",
       "      <td>0.738109</td>\n",
       "      <td>0.383413</td>\n",
       "      <td>0.000929</td>\n",
       "    </tr>\n",
       "    <tr>\n",
       "      <th>FCGR activation</th>\n",
       "      <td>1.072830</td>\n",
       "      <td>1.601208</td>\n",
       "      <td>4.340647</td>\n",
       "      <td>0.000779</td>\n",
       "    </tr>\n",
       "  </tbody>\n",
       "</table>\n",
       "<p>2076 rows × 4 columns</p>\n",
       "</div>"
      ],
      "text/plain": [
       "                                                    IntClust 2  IntClust 5  \\\n",
       "Term                                                                         \n",
       "Activation of ATR in response to replication st...    1.565693    1.554291   \n",
       "DNA strand elongation                                 2.997057    1.623750   \n",
       "Signal Transduction                                   0.796444    5.000000   \n",
       "Polo-like kinase mediated events                      1.189150    1.172069   \n",
       "Mitochondrial translation termination                 0.858228    1.294622   \n",
       "...                                                        ...         ...   \n",
       "Interleukin-7 signaling                               3.781075    0.198460   \n",
       "Interconversion of 2-oxoglutarate and 2-hydroxy...    0.546591    0.293162   \n",
       "Platelet calcium homeostasis                          1.006915    0.198949   \n",
       "betaKlotho-mediated ligand binding                    0.107609    0.738109   \n",
       "FCGR activation                                       1.072830    1.601208   \n",
       "\n",
       "                                                    IntClust 7  IntClust 9  \n",
       "Term                                                                        \n",
       "Activation of ATR in response to replication st...    2.864350    5.000000  \n",
       "DNA strand elongation                                 2.696667    5.000000  \n",
       "Signal Transduction                                   0.856422    5.000000  \n",
       "Polo-like kinase mediated events                      2.835924    5.000000  \n",
       "Mitochondrial translation termination                 0.368472    5.000000  \n",
       "...                                                        ...         ...  \n",
       "Interleukin-7 signaling                               0.709057    0.001990  \n",
       "Interconversion of 2-oxoglutarate and 2-hydroxy...    0.276596    0.001405  \n",
       "Platelet calcium homeostasis                          0.034123    0.001119  \n",
       "betaKlotho-mediated ligand binding                    0.383413    0.000929  \n",
       "FCGR activation                                       4.340647    0.000779  \n",
       "\n",
       "[2076 rows x 4 columns]"
      ]
     },
     "execution_count": 16,
     "metadata": {},
     "output_type": "execute_result"
    }
   ],
   "source": [
    "gsea_df.sort_values(by=\"IntClust 9\", ascending= False)"
   ]
  },
  {
   "cell_type": "code",
   "execution_count": 17,
   "metadata": {},
   "outputs": [
    {
     "data": {
      "text/plain": [
       "IntClust 2    0.241110\n",
       "IntClust 5    0.433812\n",
       "IntClust 7    0.773464\n",
       "IntClust 9    0.026619\n",
       "Name: Transmission across Electrical Synapses, dtype: float64"
      ]
     },
     "execution_count": 17,
     "metadata": {},
     "output_type": "execute_result"
    }
   ],
   "source": [
    "gsea_df.index = gsea_df.index.str.rstrip(\" \")\n",
    "\n",
    "gsea_df.loc[\"Transmission across Electrical Synapses\"]\n"
   ]
  },
  {
   "cell_type": "code",
   "execution_count": 19,
   "metadata": {},
   "outputs": [],
   "source": [
    "gsea_df.to_csv(\"../exp/reactome_2019_GSEA.csv\")"
   ]
  }
 ],
 "metadata": {
  "kernelspec": {
   "display_name": "Python 3",
   "language": "python",
   "name": "python3"
  },
  "language_info": {
   "codemirror_mode": {
    "name": "ipython",
    "version": 3
   },
   "file_extension": ".py",
   "mimetype": "text/x-python",
   "name": "python",
   "nbconvert_exporter": "python",
   "pygments_lexer": "ipython3",
   "version": "3.7.7"
  }
 },
 "nbformat": 4,
 "nbformat_minor": 2
}
