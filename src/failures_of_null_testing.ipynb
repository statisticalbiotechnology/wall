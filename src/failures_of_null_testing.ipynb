{
 "cells": [
  {
   "cell_type": "code",
   "execution_count": 6,
   "metadata": {},
   "outputs": [
    {
     "data": {
      "text/html": [
       "<style>.container { width:100% !important; }</style>"
      ],
      "text/plain": [
       "<IPython.core.display.HTML object>"
      ]
     },
     "metadata": {},
     "output_type": "display_data"
    },
    {
     "data": {
      "text/plain": [
       "<Figure size 1500x1000 with 0 Axes>"
      ]
     },
     "metadata": {},
     "output_type": "display_data"
    }
   ],
   "source": [
    "from IPython.core.display import display, HTML\n",
    "display(HTML(\"<style>.container { width:100% !important; }</style>\"))\n",
    "from matplotlib.pyplot import figure\n",
    "figure(num=None, figsize=(15, 10), dpi=100, facecolor='w', edgecolor='k')\n",
    "import pandas as pd\n",
    "from scipy.stats import zscore, norm\n",
    "import matplotlib.pyplot as plt\n",
    "import numpy as np\n",
    "from scipy.stats import truncnorm, norm\n",
    "from scipy.optimize import fmin_slsqp"
   ]
  },
  {
   "cell_type": "code",
   "execution_count": 3,
   "metadata": {},
   "outputs": [],
   "source": [
    "pca_per_pathway = pd.read_csv('../data/pca_per_pathway.csv', index_col=0)\n",
    "\n",
    "new_clinical_patient = pd.read_csv('../data/data_clinical_patient.txt', sep='\\t', index_col=0).iloc[4:]\n",
    "new_clinical_sample = pd.read_csv('../data/data_clinical_sample.txt', sep='\\t', index_col=0).iloc[4:]\n",
    "new_clinical = pd.concat([new_clinical_patient, new_clinical_sample.reindex(new_clinical_patient.index)], axis=1)\n",
    "new_clinical['Triple Neg'] = new_clinical.apply(lambda row: True if ((row['ER Status'] == 'Negative') and (row['PR Status'] == 'Negative') and (row['HER2 Status'] == 'Negative')) else False, axis = 1)\n",
    "new_clinical['ER-/PR-/HER2+'] = new_clinical.apply(lambda row: True if ((row['ER Status'] == 'Negative') and (row['PR Status'] == 'Negative') and (row['HER2 Status'] == 'Positive')) else False, axis = 1)\n",
    "\n",
    "full_df = pd.concat([pca_per_pathway, new_clinical.reindex(pca_per_pathway.index)], axis=1)"
   ]
  },
  {
   "cell_type": "code",
   "execution_count": 4,
   "metadata": {},
   "outputs": [
    {
     "name": "stdout",
     "output_type": "stream",
     "text": [
      "1\n",
      "10\n",
      "2\n",
      "3\n",
      "4ER+\n",
      "4ER-\n",
      "5\n",
      "6\n",
      "7\n",
      "8\n",
      "9\n"
     ]
    }
   ],
   "source": [
    "from scipy.stats import ttest_ind, mannwhitneyu\n",
    "import qvalue as qv\n",
    "\n",
    "clusterframes = {}\n",
    "\n",
    "grouped_by_cluster = full_df.groupby('Integrative Cluster')\n",
    "\n",
    "for group in grouped_by_cluster:\n",
    "    df_cluster = pd.DataFrame(index=full_df.iloc[:,:-33].columns)\n",
    "    groupname = group[0]\n",
    "    df = group[1].iloc[:,:-33]\n",
    "    group2_df = full_df[full_df['Integrative Cluster'] != groupname].iloc[:,:-33]\n",
    "    pvaluelist = []\n",
    "    group1_mean_list = []\n",
    "    group2_mean_list = []\n",
    "    for pathway in df:\n",
    "        group = df[pathway]\n",
    "        group2 = group2_df[pathway]\n",
    "        test = mannwhitneyu(group, group2, alternative='two-sided')\n",
    "        pvaluelist.append(test[1])\n",
    "        group_mean = group.mean()\n",
    "        group1_mean_list.append(group_mean)\n",
    "        group2_mean = group2.mean()\n",
    "        group2_mean_list.append(group2_mean) \n",
    "        \n",
    "    \n",
    "    df_cluster[f'Cluster {groupname}'] = group1_mean_list\n",
    "    df_cluster['Other clusters'] = group2_mean_list\n",
    "    df_cluster['Fold Change'] = np.log2(abs(df_cluster[f'Cluster {groupname}'])) - np.log2(abs(df_cluster['Other clusters']))\n",
    "    \n",
    "    \n",
    "    df_cluster['p-values'] = pvaluelist\n",
    "    qv.qvalues(df_cluster, 'p-values', f'cluster {groupname} qvalues')\n",
    "    #df_cluster['p-values'] = -np.log10(df_cluster['p-values'])\n",
    "    #df_cluster[f'cluster {groupname} qvalues'] = -np.log10(df_cluster[f'cluster {groupname} qvalues'])\n",
    "    print(groupname)\n",
    "    clusterframes[groupname] = df_cluster\n",
    "        \n",
    "        "
   ]
  },
  {
   "cell_type": "code",
   "execution_count": null,
   "metadata": {
    "scrolled": false
   },
   "outputs": [
    {
     "name": "stdout",
     "output_type": "stream",
     "text": [
      "quantiles calculated\n",
      "-4.778888612036237 -0.5716492157712434\n"
     ]
    }
   ],
   "source": [
    "pvalues = clusterframes['1']['p-values'].tolist()\n",
    "z_scores = norm.ppf(pvalues)\n",
    "\n",
    "\n",
    "xa = np.quantile(z_scores, 0.25)\n",
    "xb = np.quantile(z_scores, 0.75)\n",
    "print('quantiles calculated')\n",
    "print(xa, xb)\n",
    "\n",
    "trunc_z = z_scores[z_scores>xa]\n",
    "trunc_z = trunc_z[trunc_z<xb]\n",
    "\n",
    "def func(p, r, xa, xb):\n",
    "    return truncnorm.nnlf(p, r)\n",
    "\n",
    "def constraint(p, r, xa, xb):\n",
    "    a, b, loc, scale = p\n",
    "    return np.array([a*scale + loc - xa, b*scale + loc - xb])\n",
    "\n",
    "loc = 0\n",
    "scale = 1\n",
    "\n",
    "a = (xa - loc)/scale\n",
    "b = (xb - loc)/scale\n",
    "\n",
    "loc_guess = 0\n",
    "scale_guess = 1\n",
    "a_guess = (xa - loc_guess)/scale_guess\n",
    "b_guess = (xb - loc_guess)/scale_guess\n",
    "p0 = [a_guess, b_guess, loc_guess, scale_guess]\n",
    "\n",
    "par = fmin_slsqp(func, p0, f_eqcons=constraint, args=(trunc_z, xa, xb), iter=3000)\n",
    "print(par)\n",
    "\n",
    "\n",
    "\n",
    "fig, ax = plt.subplots(1, 1, figsize=(15, 10))\n",
    "ax.hist(z_scores, bins=100, density=True)\n",
    "ax.plot(z_scores, norm.pdf(z_scores, mean, var), 'r-', lw=5, alpha=0.6, label='norm pdf')\n",
    "plt.show()\n",
    "\n",
    "\n",
    "fig, ax = plt.subplots(1, 1, figsize=(15, 10))\n",
    "ax.hist(z_scores, bins=100, density=True)\n",
    "ax.plot(z_scores, truncnorm.pdf(z_scores, xa, xb, par[2], par[3]), 'r-', lw=5, alpha=0.6, label='norm pdf')\n",
    "plt.show()\n",
    "\n",
    "\n",
    "\n",
    "normal_Z = truncnorm.pdf(z_scores, xa, xb, par[2], par[3])\n",
    "plt.figure(figsize=(15, 10))\n",
    "plt.hist(normal_Z, bins=100, density=True)\n",
    "plt.show()\n",
    "print(normal_Z)\n",
    "normal_p = norm.sf(-abs(normal_Z))\n",
    "print(normal_p)\n",
    "\n",
    "#how are the p-values ordered?\n",
    "\n",
    "\n",
    "\n",
    "print(f'{(normal_p <= 0.001).sum()} pathways have p <= 0.001')"
   ]
  },
  {
   "cell_type": "code",
   "execution_count": null,
   "metadata": {},
   "outputs": [],
   "source": []
  }
 ],
 "metadata": {
  "kernelspec": {
   "display_name": "Python 3",
   "language": "python",
   "name": "python3"
  },
  "language_info": {
   "codemirror_mode": {
    "name": "ipython",
    "version": 3
   },
   "file_extension": ".py",
   "mimetype": "text/x-python",
   "name": "python",
   "nbconvert_exporter": "python",
   "pygments_lexer": "ipython3",
   "version": "3.7.7"
  }
 },
 "nbformat": 4,
 "nbformat_minor": 2
}
