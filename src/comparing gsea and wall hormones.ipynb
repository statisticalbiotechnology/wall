{
 "cells": [
  {
   "cell_type": "code",
   "execution_count": 2,
   "metadata": {},
   "outputs": [
    {
     "data": {
      "text/html": [
       "<style>.container { width:100% !important; }</style>"
      ],
      "text/plain": [
       "<IPython.core.display.HTML object>"
      ]
     },
     "metadata": {},
     "output_type": "display_data"
    }
   ],
   "source": [
    "import pandas as pd\n",
    "import numpy as np\n",
    "from IPython.core.display import display, HTML\n",
    "display(HTML(\"<style>.container { width:100% !important; }</style>\"))"
   ]
  },
  {
   "cell_type": "code",
   "execution_count": 46,
   "metadata": {},
   "outputs": [
    {
     "name": "stdout",
     "output_type": "stream",
     "text": [
      "Index(['Activation of the pre-replicative complex',\n",
      "       'Cell surface interactions at the vascular wall',\n",
      "       'DNA Replication Pre-Initiation',\n",
      "       'Immunoregulatory interactions between a Lymphoid and a non-Lymphoid cell',\n",
      "       'Interleukin-10 signaling', 'Nuclear Envelope Breakdown',\n",
      "       'Assembly of the pre-replicative complex',\n",
      "       'tRNA processing in the nucleus', 'Signaling by Interleukins',\n",
      "       'Amplification  of signal from unattached  kinetochores via a MAD2  inhibitory signal',\n",
      "       ...\n",
      "       'Negative regulation of activity of TFAP2 (AP-2) family transcription factors',\n",
      "       'MyD88 deficiency (TLR5)',\n",
      "       'Entry of Influenza Virion into Host Cell via Endocytosis',\n",
      "       'Long-term potentiation', 'Glucuronidation',\n",
      "       'Synthesis of PIPs at the early endosome membrane',\n",
      "       'Signaling by cytosolic FGFR1 fusion mutants',\n",
      "       'Neurexins and neuroligins',\n",
      "       'RUNX2 regulates genes involved in differentiation of myeloid cells',\n",
      "       'Receptor-type tyrosine-protein phosphatases'],\n",
      "      dtype='object', length=2076)\n",
      "Index(['Activation of the pre-replicative complex',\n",
      "       'Assembly of the pre-replicative complex',\n",
      "       'DNA Replication Pre-Initiation',\n",
      "       'Immunoregulatory interactions between a Lymphoid and a non-Lymphoid cell',\n",
      "       'Orc1 removal from chromatin', 'G1/S-Specific Transcription',\n",
      "       'Antigen processing-Cross presentation', 'Interleukin-10 signaling',\n",
      "       'Nuclear Envelope Breakdown', 'Chemokine receptors bind chemokines',\n",
      "       ...\n",
      "       'Phospholipase C-mediated cascade; FGFR2',\n",
      "       'Resistance of ERBB2 KD mutants to AEE788', 'Organic anion transport',\n",
      "       'Localization of the PINCH-ILK-PARVIN complex to focal adhesions',\n",
      "       'Drug-mediated inhibition of ERBB2 signaling',\n",
      "       'ARMS-mediated activation', 'Serotonin receptors',\n",
      "       'NR1H2 & NR1H3 regulate gene expression to limit cholesterol uptake',\n",
      "       'Resistance of ERBB2 KD mutants to trastuzumab',\n",
      "       'Vasopressin-like receptors'],\n",
      "      dtype='object', length=2076)\n",
      "Index(['Adaptive Immune System', 'Assembly of the pre-replicative complex',\n",
      "       'Cell Cycle', 'Cell Cycle Checkpoints', 'Cell Cycle, Mitotic',\n",
      "       'DNA Replication', 'DNA Replication Pre-Initiation', 'Disease',\n",
      "       'G2/M Checkpoints', 'Immune System',\n",
      "       ...\n",
      "       'TNFR1-mediated ceramide production',\n",
      "       'Sodium-coupled sulphate, di- and tri-carboxylate transporters',\n",
      "       'IRAK2 mediated activation of TAK1 complex', 'Interleukin-36 pathway',\n",
      "       'Beta oxidation of myristoyl-CoA to lauroyl-CoA',\n",
      "       'YAP1- and WWTR1 (TAZ)-stimulated gene expression',\n",
      "       'Biosynthesis of maresin-like SPMs', 'IRAK4 deficiency (TLR5)',\n",
      "       'Activation of BIM and translocation to mitochondria',\n",
      "       'Tachykinin receptors bind tachykinins'],\n",
      "      dtype='object', length=2076)\n",
      "Index(['Antigen processing-Cross presentation', 'G1/S-Specific Transcription',\n",
      "       'Immunoregulatory interactions between a Lymphoid and a non-Lymphoid cell',\n",
      "       'Interleukin-10 signaling', 'Nuclear Envelope Breakdown',\n",
      "       'Interferon gamma signaling',\n",
      "       'Transport of the SLBP independent Mature mRNA', 'Mitotic Anaphase',\n",
      "       'Transport of Mature mRNAs Derived from Intronless Transcripts',\n",
      "       'Transport of Mature mRNA Derived from an Intronless Transcript',\n",
      "       ...\n",
      "       'Transport of connexins along the secretory pathway',\n",
      "       'Organic anion transport', 'Activation of AMPA receptors',\n",
      "       'NGF-independant TRKA activation',\n",
      "       'Oligomerization of connexins into connexons',\n",
      "       'RUNX3 regulates RUNX1-mediated transcription',\n",
      "       'Orexin and neuropeptides FF and QRFP bind to their respective receptors',\n",
      "       'Phospholipase C-mediated cascade: FGFR1',\n",
      "       'Amine ligand-binding receptors',\n",
      "       'RUNX2 regulates genes involved in differentiation of myeloid cells'],\n",
      "      dtype='object', length=2076)\n"
     ]
    }
   ],
   "source": [
    "clusternames = [\"adj_ERPositive\", \"adj_PRPositive\", \"adj_HER2Positive\", \"adj_Triple Neg\"]\n",
    "\n",
    "gsea_frames = {}\n",
    "for cluster in clusternames:\n",
    "    df = pd.read_csv(f\"GSEA_/{cluster}/gseapy.gsea.gene_set.report.csv\", index_col=0).iloc[:,:-3]\n",
    "    indexlist = []\n",
    "    for i in df.index:\n",
    "        new_i = i.rstrip(\" \")\n",
    "        indexlist.append(new_i)\n",
    "    df.index = indexlist\n",
    "    print(df.index)\n",
    "    df['fdr'] = df.apply(lambda row: 5.0 if (row['fdr'] == 0.0) else -np.log10(row['fdr']), axis=1)\n",
    "    df = df.loc[~df.index.duplicated(keep='first')]\n",
    "    gsea_frames[cluster] = df\n",
    "    \n",
    "gsea_df = pd.DataFrame(index= gsea_frames['adj_ERPositive'].index)\n",
    "for i in gsea_frames:\n",
    "    gsea_df[i] = gsea_frames[i][f'fdr']"
   ]
  },
  {
   "cell_type": "code",
   "execution_count": 47,
   "metadata": {},
   "outputs": [
    {
     "data": {
      "text/html": [
       "<div>\n",
       "<style scoped>\n",
       "    .dataframe tbody tr th:only-of-type {\n",
       "        vertical-align: middle;\n",
       "    }\n",
       "\n",
       "    .dataframe tbody tr th {\n",
       "        vertical-align: top;\n",
       "    }\n",
       "\n",
       "    .dataframe thead th {\n",
       "        text-align: right;\n",
       "    }\n",
       "</style>\n",
       "<table border=\"1\" class=\"dataframe\">\n",
       "  <thead>\n",
       "    <tr style=\"text-align: right;\">\n",
       "      <th></th>\n",
       "      <th>ER</th>\n",
       "      <th>PR</th>\n",
       "      <th>HER2</th>\n",
       "      <th>Triple Neg</th>\n",
       "    </tr>\n",
       "  </thead>\n",
       "  <tbody>\n",
       "    <tr>\n",
       "      <th>Activation of the pre-replicative complex</th>\n",
       "      <td>5.0</td>\n",
       "      <td>5.000000</td>\n",
       "      <td>1.622301</td>\n",
       "      <td>3.282650</td>\n",
       "    </tr>\n",
       "    <tr>\n",
       "      <th>Cell surface interactions at the vascular wall</th>\n",
       "      <td>5.0</td>\n",
       "      <td>1.972859</td>\n",
       "      <td>2.899743</td>\n",
       "      <td>2.239015</td>\n",
       "    </tr>\n",
       "    <tr>\n",
       "      <th>DNA Replication Pre-Initiation</th>\n",
       "      <td>5.0</td>\n",
       "      <td>5.000000</td>\n",
       "      <td>5.000000</td>\n",
       "      <td>3.384107</td>\n",
       "    </tr>\n",
       "    <tr>\n",
       "      <th>Immunoregulatory interactions between a Lymphoid and a non-Lymphoid cell</th>\n",
       "      <td>5.0</td>\n",
       "      <td>5.000000</td>\n",
       "      <td>2.843885</td>\n",
       "      <td>5.000000</td>\n",
       "    </tr>\n",
       "    <tr>\n",
       "      <th>Interleukin-10 signaling</th>\n",
       "      <td>5.0</td>\n",
       "      <td>3.604798</td>\n",
       "      <td>0.807129</td>\n",
       "      <td>5.000000</td>\n",
       "    </tr>\n",
       "    <tr>\n",
       "      <th>...</th>\n",
       "      <td>...</td>\n",
       "      <td>...</td>\n",
       "      <td>...</td>\n",
       "      <td>...</td>\n",
       "    </tr>\n",
       "    <tr>\n",
       "      <th>Synthesis of PIPs at the early endosome membrane</th>\n",
       "      <td>-0.0</td>\n",
       "      <td>0.026300</td>\n",
       "      <td>0.170997</td>\n",
       "      <td>0.030985</td>\n",
       "    </tr>\n",
       "    <tr>\n",
       "      <th>Signaling by cytosolic FGFR1 fusion mutants</th>\n",
       "      <td>-0.0</td>\n",
       "      <td>0.043131</td>\n",
       "      <td>0.126391</td>\n",
       "      <td>0.022732</td>\n",
       "    </tr>\n",
       "    <tr>\n",
       "      <th>Neurexins and neuroligins</th>\n",
       "      <td>-0.0</td>\n",
       "      <td>0.060085</td>\n",
       "      <td>0.295081</td>\n",
       "      <td>0.037112</td>\n",
       "    </tr>\n",
       "    <tr>\n",
       "      <th>RUNX2 regulates genes involved in differentiation of myeloid cells</th>\n",
       "      <td>-0.0</td>\n",
       "      <td>0.112589</td>\n",
       "      <td>0.063539</td>\n",
       "      <td>-0.000000</td>\n",
       "    </tr>\n",
       "    <tr>\n",
       "      <th>Receptor-type tyrosine-protein phosphatases</th>\n",
       "      <td>-0.0</td>\n",
       "      <td>0.018991</td>\n",
       "      <td>0.135782</td>\n",
       "      <td>0.006947</td>\n",
       "    </tr>\n",
       "  </tbody>\n",
       "</table>\n",
       "<p>2076 rows × 4 columns</p>\n",
       "</div>"
      ],
      "text/plain": [
       "                                                     ER        PR      HER2  \\\n",
       "Activation of the pre-replicative complex           5.0  5.000000  1.622301   \n",
       "Cell surface interactions at the vascular wall      5.0  1.972859  2.899743   \n",
       "DNA Replication Pre-Initiation                      5.0  5.000000  5.000000   \n",
       "Immunoregulatory interactions between a Lymphoi...  5.0  5.000000  2.843885   \n",
       "Interleukin-10 signaling                            5.0  3.604798  0.807129   \n",
       "...                                                 ...       ...       ...   \n",
       "Synthesis of PIPs at the early endosome membrane   -0.0  0.026300  0.170997   \n",
       "Signaling by cytosolic FGFR1 fusion mutants        -0.0  0.043131  0.126391   \n",
       "Neurexins and neuroligins                          -0.0  0.060085  0.295081   \n",
       "RUNX2 regulates genes involved in differentiati... -0.0  0.112589  0.063539   \n",
       "Receptor-type tyrosine-protein phosphatases        -0.0  0.018991  0.135782   \n",
       "\n",
       "                                                    Triple Neg  \n",
       "Activation of the pre-replicative complex             3.282650  \n",
       "Cell surface interactions at the vascular wall        2.239015  \n",
       "DNA Replication Pre-Initiation                        3.384107  \n",
       "Immunoregulatory interactions between a Lymphoi...    5.000000  \n",
       "Interleukin-10 signaling                              5.000000  \n",
       "...                                                        ...  \n",
       "Synthesis of PIPs at the early endosome membrane      0.030985  \n",
       "Signaling by cytosolic FGFR1 fusion mutants           0.022732  \n",
       "Neurexins and neuroligins                             0.037112  \n",
       "RUNX2 regulates genes involved in differentiati...   -0.000000  \n",
       "Receptor-type tyrosine-protein phosphatases           0.006947  \n",
       "\n",
       "[2076 rows x 4 columns]"
      ]
     },
     "execution_count": 47,
     "metadata": {},
     "output_type": "execute_result"
    }
   ],
   "source": [
    "gsea_df.columns = [\"ER\", \"PR\", \"HER2\", \"Triple Neg\"]\n",
    "gsea_df"
   ]
  },
  {
   "cell_type": "code",
   "execution_count": 48,
   "metadata": {},
   "outputs": [
    {
     "data": {
      "text/html": [
       "<div>\n",
       "<style scoped>\n",
       "    .dataframe tbody tr th:only-of-type {\n",
       "        vertical-align: middle;\n",
       "    }\n",
       "\n",
       "    .dataframe tbody tr th {\n",
       "        vertical-align: top;\n",
       "    }\n",
       "\n",
       "    .dataframe thead th {\n",
       "        text-align: right;\n",
       "    }\n",
       "</style>\n",
       "<table border=\"1\" class=\"dataframe\">\n",
       "  <thead>\n",
       "    <tr style=\"text-align: right;\">\n",
       "      <th></th>\n",
       "      <th>ER</th>\n",
       "      <th>PR</th>\n",
       "      <th>HER2</th>\n",
       "      <th>Triple Neg</th>\n",
       "    </tr>\n",
       "  </thead>\n",
       "  <tbody>\n",
       "    <tr>\n",
       "      <th>SLC-mediated transmembrane transport</th>\n",
       "      <td>37.405786</td>\n",
       "      <td>13.252255</td>\n",
       "      <td>0.663079</td>\n",
       "      <td>26.968505</td>\n",
       "    </tr>\n",
       "    <tr>\n",
       "      <th>Transport of bile salts and organic acids, metal ions and amine compounds</th>\n",
       "      <td>32.452070</td>\n",
       "      <td>9.880556</td>\n",
       "      <td>0.113069</td>\n",
       "      <td>23.280225</td>\n",
       "    </tr>\n",
       "    <tr>\n",
       "      <th>Sphingolipid metabolism</th>\n",
       "      <td>29.140881</td>\n",
       "      <td>8.853328</td>\n",
       "      <td>0.010495</td>\n",
       "      <td>22.599006</td>\n",
       "    </tr>\n",
       "    <tr>\n",
       "      <th>Cyclin D associated events in G1</th>\n",
       "      <td>35.525142</td>\n",
       "      <td>14.523865</td>\n",
       "      <td>0.815315</td>\n",
       "      <td>22.485267</td>\n",
       "    </tr>\n",
       "    <tr>\n",
       "      <th>G1 Phase</th>\n",
       "      <td>35.525142</td>\n",
       "      <td>14.523865</td>\n",
       "      <td>0.815315</td>\n",
       "      <td>22.485267</td>\n",
       "    </tr>\n",
       "    <tr>\n",
       "      <th>...</th>\n",
       "      <td>...</td>\n",
       "      <td>...</td>\n",
       "      <td>...</td>\n",
       "      <td>...</td>\n",
       "    </tr>\n",
       "    <tr>\n",
       "      <th>Protein ubiquitination</th>\n",
       "      <td>0.075795</td>\n",
       "      <td>0.051607</td>\n",
       "      <td>0.029685</td>\n",
       "      <td>0.000851</td>\n",
       "    </tr>\n",
       "    <tr>\n",
       "      <th>Transcriptional regulation of granulopoiesis</th>\n",
       "      <td>0.033070</td>\n",
       "      <td>0.503143</td>\n",
       "      <td>0.031908</td>\n",
       "      <td>0.000787</td>\n",
       "    </tr>\n",
       "    <tr>\n",
       "      <th>Late endosomal microautophagy</th>\n",
       "      <td>0.141577</td>\n",
       "      <td>0.716284</td>\n",
       "      <td>0.011522</td>\n",
       "      <td>0.000651</td>\n",
       "    </tr>\n",
       "    <tr>\n",
       "      <th>Unblocking of NMDA receptors, glutamate binding and activation</th>\n",
       "      <td>0.484781</td>\n",
       "      <td>0.694761</td>\n",
       "      <td>1.059343</td>\n",
       "      <td>0.000431</td>\n",
       "    </tr>\n",
       "    <tr>\n",
       "      <th>Dermatan sulfate biosynthesis</th>\n",
       "      <td>0.082225</td>\n",
       "      <td>0.107318</td>\n",
       "      <td>0.007560</td>\n",
       "      <td>0.000413</td>\n",
       "    </tr>\n",
       "  </tbody>\n",
       "</table>\n",
       "<p>2074 rows × 4 columns</p>\n",
       "</div>"
      ],
      "text/plain": [
       "                                                           ER         PR  \\\n",
       "SLC-mediated transmembrane transport                37.405786  13.252255   \n",
       "Transport of bile salts and organic acids, meta...  32.452070   9.880556   \n",
       "Sphingolipid metabolism                             29.140881   8.853328   \n",
       "Cyclin D associated events in G1                    35.525142  14.523865   \n",
       "G1 Phase                                            35.525142  14.523865   \n",
       "...                                                       ...        ...   \n",
       "Protein ubiquitination                               0.075795   0.051607   \n",
       "Transcriptional regulation of granulopoiesis         0.033070   0.503143   \n",
       "Late endosomal microautophagy                        0.141577   0.716284   \n",
       "Unblocking of NMDA receptors, glutamate binding...   0.484781   0.694761   \n",
       "Dermatan sulfate biosynthesis                        0.082225   0.107318   \n",
       "\n",
       "                                                        HER2  Triple Neg  \n",
       "SLC-mediated transmembrane transport                0.663079   26.968505  \n",
       "Transport of bile salts and organic acids, meta...  0.113069   23.280225  \n",
       "Sphingolipid metabolism                             0.010495   22.599006  \n",
       "Cyclin D associated events in G1                    0.815315   22.485267  \n",
       "G1 Phase                                            0.815315   22.485267  \n",
       "...                                                      ...         ...  \n",
       "Protein ubiquitination                              0.029685    0.000851  \n",
       "Transcriptional regulation of granulopoiesis        0.031908    0.000787  \n",
       "Late endosomal microautophagy                       0.011522    0.000651  \n",
       "Unblocking of NMDA receptors, glutamate binding...  1.059343    0.000431  \n",
       "Dermatan sulfate biosynthesis                       0.007560    0.000413  \n",
       "\n",
       "[2074 rows x 4 columns]"
      ]
     },
     "execution_count": 48,
     "metadata": {},
     "output_type": "execute_result"
    }
   ],
   "source": [
    "wall_hormones = pd.read_csv('../exp/adjusted_distributions_receptors.csv', index_col = 0)\n",
    "wall_hormones.columns = [\"ER\", \"PR\", \"HER2\", \"Triple Neg\"]\n",
    "wall_hormones"
   ]
  },
  {
   "cell_type": "code",
   "execution_count": 49,
   "metadata": {},
   "outputs": [
    {
     "data": {
      "text/plain": [
       "{'ER': 706, 'PR': 455, 'HER2': 44, 'Triple Neg': 508}"
      ]
     },
     "execution_count": 49,
     "metadata": {},
     "output_type": "execute_result"
    }
   ],
   "source": [
    "wall_hormones_counts = {}\n",
    "\n",
    "for column in wall_hormones.columns:\n",
    "    columnshape = wall_hormones[wall_hormones[column] >= 3].shape[0]\n",
    "    wall_hormones_counts[column] = columnshape\n",
    "wall_hormones_counts"
   ]
  },
  {
   "cell_type": "code",
   "execution_count": 50,
   "metadata": {},
   "outputs": [
    {
     "data": {
      "text/plain": [
       "{'ER': 41, 'PR': 23, 'HER2': 41, 'Triple Neg': 39}"
      ]
     },
     "execution_count": 50,
     "metadata": {},
     "output_type": "execute_result"
    }
   ],
   "source": [
    "gsea_counts = {}\n",
    "\n",
    "for column in gsea_df.columns:\n",
    "    columnshape = gsea_df[gsea_df[column] >= 3].shape[0]\n",
    "    gsea_counts[column] = columnshape\n",
    "gsea_counts"
   ]
  },
  {
   "cell_type": "code",
   "execution_count": 58,
   "metadata": {},
   "outputs": [
    {
     "data": {
      "image/png": "[encoded data removed]",
      "text/plain": [
       "<Figure size 864x504 with 1 Axes>"
      ]
     },
     "metadata": {
      "needs_background": "light"
     },
     "output_type": "display_data"
    }
   ],
   "source": [
    "full_df = pd.DataFrame({'GSEA': gsea_counts, 'ANOVA': wall_hormones_counts})\n",
    "ax = full_df.plot.bar(rot=0, figsize=(12, 7))\n",
    "ax.set_xlabel(\"Receptor\", fontsize=18)\n",
    "ax.set_ylabel(\"Pathways with q ≤ 0.001\", fontsize=18)\n",
    "ax.set_title('Comparison of ANOVA and GSEA significant pathways', fontsize=22)\n",
    "ax.tick_params(labelsize=16)\n",
    "fig = ax.get_figure()\n",
    "fig.show()"
   ]
  },
  {
   "cell_type": "code",
   "execution_count": 59,
   "metadata": {},
   "outputs": [],
   "source": [
    "fig = ax.get_figure()\n",
    "fig.savefig('gsea_wall_anova_hormone_comparison.png')"
   ]
  },
  {
   "cell_type": "code",
   "execution_count": 52,
   "metadata": {},
   "outputs": [
    {
     "name": "stdout",
     "output_type": "stream",
     "text": [
      "ER\n",
      "PR\n",
      "HER2\n",
      "Triple Neg\n"
     ]
    },
    {
     "data": {
      "text/plain": [
       "{'ER': 38, 'PR': 18, 'HER2': 0, 'Triple Neg': 34}"
      ]
     },
     "execution_count": 52,
     "metadata": {},
     "output_type": "execute_result"
    }
   ],
   "source": [
    "compare_sig_pathways = {}\n",
    "for i in gsea_df.columns:\n",
    "    print(i)\n",
    "    gsea_cluster = gsea_df[gsea_df[i] > 3].index.tolist()\n",
    "    anova_cluster = wall_hormones[wall_hormones[i] > 3].index.tolist()\n",
    "    count = 0\n",
    "    for index in anova_cluster:\n",
    "        if index in gsea_cluster:\n",
    "            count += 1\n",
    "    compare_sig_pathways[i] = count\n",
    "\n",
    "compare_sig_pathways"
   ]
  },
  {
   "cell_type": "code",
   "execution_count": 53,
   "metadata": {},
   "outputs": [
    {
     "data": {
      "text/plain": [
       "{'ER': [668, 3, 38],\n",
       " 'PR': [437, 5, 18],\n",
       " 'HER2': [44, 41, 0],\n",
       " 'Triple Neg': [474, 5, 34]}"
      ]
     },
     "execution_count": 53,
     "metadata": {},
     "output_type": "execute_result"
    }
   ],
   "source": [
    "venn_dict = {}\n",
    "for i in compare_sig_pathways.keys():\n",
    "    venn_list = [wall_hormones_counts[i]-compare_sig_pathways[i], gsea_counts[i] - compare_sig_pathways[i], compare_sig_pathways[i]]\n",
    "    venn_dict[i] = venn_list\n",
    "venn_dict "
   ]
  },
  {
   "cell_type": "code",
   "execution_count": 54,
   "metadata": {},
   "outputs": [
    {
     "data": {
      "text/html": [
       "<div>\n",
       "<style scoped>\n",
       "    .dataframe tbody tr th:only-of-type {\n",
       "        vertical-align: middle;\n",
       "    }\n",
       "\n",
       "    .dataframe tbody tr th {\n",
       "        vertical-align: top;\n",
       "    }\n",
       "\n",
       "    .dataframe thead th {\n",
       "        text-align: right;\n",
       "    }\n",
       "</style>\n",
       "<table border=\"1\" class=\"dataframe\">\n",
       "  <thead>\n",
       "    <tr style=\"text-align: right;\">\n",
       "      <th></th>\n",
       "      <th>Overlap</th>\n",
       "      <th>GSEA</th>\n",
       "      <th>ANOVA</th>\n",
       "      <th>GSEA exclusive</th>\n",
       "      <th>ANOVA exclusive</th>\n",
       "    </tr>\n",
       "  </thead>\n",
       "  <tbody>\n",
       "    <tr>\n",
       "      <th>ER</th>\n",
       "      <td>38</td>\n",
       "      <td>41</td>\n",
       "      <td>706</td>\n",
       "      <td>3</td>\n",
       "      <td>668</td>\n",
       "    </tr>\n",
       "    <tr>\n",
       "      <th>PR</th>\n",
       "      <td>18</td>\n",
       "      <td>23</td>\n",
       "      <td>455</td>\n",
       "      <td>5</td>\n",
       "      <td>437</td>\n",
       "    </tr>\n",
       "    <tr>\n",
       "      <th>HER2</th>\n",
       "      <td>0</td>\n",
       "      <td>41</td>\n",
       "      <td>44</td>\n",
       "      <td>41</td>\n",
       "      <td>44</td>\n",
       "    </tr>\n",
       "    <tr>\n",
       "      <th>Triple Neg</th>\n",
       "      <td>34</td>\n",
       "      <td>39</td>\n",
       "      <td>508</td>\n",
       "      <td>5</td>\n",
       "      <td>474</td>\n",
       "    </tr>\n",
       "  </tbody>\n",
       "</table>\n",
       "</div>"
      ],
      "text/plain": [
       "            Overlap  GSEA  ANOVA  GSEA exclusive  ANOVA exclusive\n",
       "ER               38    41    706               3              668\n",
       "PR               18    23    455               5              437\n",
       "HER2              0    41     44              41               44\n",
       "Triple Neg       34    39    508               5              474"
      ]
     },
     "execution_count": 54,
     "metadata": {},
     "output_type": "execute_result"
    }
   ],
   "source": [
    "overlap_df = pd.DataFrame(index = gsea_counts.keys())\n",
    "overlap_df['Overlap'] = compare_sig_pathways.values()\n",
    "overlap_df['GSEA'] = gsea_counts.values() \n",
    "overlap_df['ANOVA'] = wall_hormones_counts.values() \n",
    "overlap_df['GSEA exclusive'] = overlap_df['GSEA'] - overlap_df['Overlap']\n",
    "overlap_df['ANOVA exclusive'] = overlap_df['ANOVA'] - overlap_df['Overlap']\n",
    "\n",
    "overlap_df"
   ]
  },
  {
   "cell_type": "code",
   "execution_count": null,
   "metadata": {},
   "outputs": [],
   "source": []
  },
  {
   "cell_type": "code",
   "execution_count": null,
   "metadata": {},
   "outputs": [],
   "source": []
  }
 ],
 "metadata": {
  "kernelspec": {
   "display_name": "Python 3",
   "language": "python",
   "name": "python3"
  },
  "language_info": {
   "codemirror_mode": {
    "name": "ipython",
    "version": 3
   },
   "file_extension": ".py",
   "mimetype": "text/x-python",
   "name": "python",
   "nbconvert_exporter": "python",
   "pygments_lexer": "ipython3",
   "version": "3.7.7"
  }
 },
 "nbformat": 4,
 "nbformat_minor": 2
}
