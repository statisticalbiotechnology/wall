{
 "cells": [
  {
   "cell_type": "code",
   "execution_count": 1,
   "metadata": {},
   "outputs": [],
   "source": [
    "import pandas as pd"
   ]
  },
  {
   "cell_type": "code",
   "execution_count": 2,
   "metadata": {},
   "outputs": [],
   "source": [
    "files = [\"Skin_Dress1\", \"SKIN_HV1_F1\", \"SKIN_HV1_F2\", \"SKIN_HV3\", \"SKIN_HV4\", \"SKIN_HV5\"]"
   ]
  },
  {
   "cell_type": "code",
   "execution_count": 3,
   "metadata": {},
   "outputs": [
    {
     "name": "stderr",
     "output_type": "stream",
     "text": [
      "C:\\Users\\patri\\AppData\\Roaming\\Python\\Python37\\site-packages\\numpy\\lib\\arraysetops.py:569: FutureWarning: elementwise comparison failed; returning scalar instead, but in the future will perform elementwise comparison\n",
      "  mask |= (ar1 == a)\n"
     ]
    }
   ],
   "source": [
    "dress1 = pd.read_csv(f\"../data/{files[0]}/{files[0]}.csv\", index_col = 0)\n",
    "hv1 = pd.read_csv(f\"../data/{files[1]}/{files[1]}.csv\", index_col = 0)\n",
    "hv2 = pd.read_csv(f\"../data/{files[2]}/{files[2]}.csv\", index_col = 0)\n",
    "hv3 = pd.read_csv(f\"../data/{files[3]}/{files[3]}.csv\", index_col = 0)\n",
    "hv4 = pd.read_csv(f\"../data/{files[4]}/{files[4]}.csv\", index_col = 0)\n",
    "hv5 = pd.read_csv(f\"../data/{files[5]}/{files[5]}.csv\", index_col = 0)\n"
   ]
  },
  {
   "cell_type": "code",
   "execution_count": null,
   "metadata": {},
   "outputs": [],
   "source": [
    "def make_genecount_df(input_df):\n",
    "    df = pd.DataFrame()\n",
    "    genenames = input_df[\"gene_name\"].unique().tolist()\n",
    "    for i in genenames:\n",
    "        genedata = input_df.loc[input_df[\"gene_name\"] == i].to_dict()\n",
    "        df[i] = pd.Series(list(genedata[\"data\"].values()))\n",
    "    return df"
   ]
  },
  {
   "cell_type": "code",
   "execution_count": null,
   "metadata": {},
   "outputs": [],
   "source": [
    "dress1_df = make_genecount_df(dress1)"
   ]
  },
  {
   "cell_type": "code",
   "execution_count": null,
   "metadata": {},
   "outputs": [],
   "source": [
    "hv1_df = make_genecount_df(hv1)"
   ]
  },
  {
   "cell_type": "code",
   "execution_count": null,
   "metadata": {},
   "outputs": [],
   "source": [
    "hv2_df = make_genecount_df(hv2)"
   ]
  },
  {
   "cell_type": "code",
   "execution_count": null,
   "metadata": {},
   "outputs": [],
   "source": [
    "hv3_df = make_genecount_df(hv3)"
   ]
  },
  {
   "cell_type": "code",
   "execution_count": null,
   "metadata": {},
   "outputs": [],
   "source": [
    "hv4_df = make_genecount_df(hv4)"
   ]
  },
  {
   "cell_type": "code",
   "execution_count": null,
   "metadata": {},
   "outputs": [],
   "source": [
    "hv5_df = make_genecount_df(hv5)"
   ]
  },
  {
   "cell_type": "code",
   "execution_count": null,
   "metadata": {},
   "outputs": [],
   "source": []
  }
 ],
 "metadata": {
  "kernelspec": {
   "display_name": "Python 3",
   "language": "python",
   "name": "python3"
  },
  "language_info": {
   "codemirror_mode": {
    "name": "ipython",
    "version": 3
   },
   "file_extension": ".py",
   "mimetype": "text/x-python",
   "name": "python",
   "nbconvert_exporter": "python",
   "pygments_lexer": "ipython3",
   "version": "3.7.7"
  }
 },
 "nbformat": 4,
 "nbformat_minor": 2
}
