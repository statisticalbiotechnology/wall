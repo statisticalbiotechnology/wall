{
 "cells": [
  {
   "cell_type": "code",
   "execution_count": 1,
   "metadata": {},
   "outputs": [],
   "source": [
    "import collections\n",
    "import scipy.sparse as sp_sparse\n",
    "import tables"
   ]
  },
  {
   "cell_type": "code",
   "execution_count": 10,
   "metadata": {},
   "outputs": [],
   "source": [
    "def get_matrix_from_h5(filename):\n",
    "    with tables.open_file(filename, 'r') as f:\n",
    "        mat_group = f.get_node(f.root, 'GRCh38')\n",
    "        barcodes = f.get_node(mat_group, 'barcodes').read()\n",
    "        data = getattr(mat_group, 'data').read()\n",
    "        indices = getattr(mat_group, 'indices').read()\n",
    "        indptr = getattr(mat_group, 'indptr').read()\n",
    "        shape = getattr(mat_group, 'shape').read()\n",
    "        matrix = sp_sparse.csc_matrix((data, indices, indptr), shape=shape)\n",
    "         \n",
    "        feature_ref = {}\n",
    "#        feature_group = f.get_node(mat_group, 'features')\n",
    "        genes = f.get_node(mat_group, 'genes')\n",
    "        gene_names = f.get_node(mat_group, 'gene_names')\n",
    "        gene_dict = dict(zip(genes, gene_names))\n",
    "        return gene_dict, barcodes, matrix\n",
    " \n",
    "filtered_matrix_h5 = \"../data/GSE132802_RAW/Skin_Dress1.h5\"\n",
    "gene_dict, barcodes, matrix = get_matrix_from_h5(filtered_matrix_h5)"
   ]
  },
  {
   "cell_type": "code",
   "execution_count": 11,
   "metadata": {},
   "outputs": [
    {
     "data": {
      "text/plain": [
       "array([[0, 0, 0, ..., 0, 0, 0],\n",
       "       [0, 0, 0, ..., 0, 0, 0],\n",
       "       [0, 0, 0, ..., 0, 0, 0],\n",
       "       ...,\n",
       "       [0, 0, 0, ..., 0, 0, 0],\n",
       "       [0, 0, 0, ..., 0, 0, 0],\n",
       "       [0, 0, 0, ..., 0, 0, 0]], dtype=int32)"
      ]
     },
     "execution_count": 11,
     "metadata": {},
     "output_type": "execute_result"
    }
   ],
   "source": [
    "matrix.toarray()"
   ]
  },
  {
   "cell_type": "code",
   "execution_count": 12,
   "metadata": {},
   "outputs": [
    {
     "name": "stdout",
     "output_type": "stream",
     "text": [
      "../data/GSE132802_RAW/Skin_Dress1.h5\n",
      "../data/GSE132802_RAW/PBMC_T4_BACT.h5\n",
      "../data/GSE132802_RAW/SKIN_HV1_F1.h5\n",
      "../data/GSE132802_RAW/PBMC_T4_CTRL.h5\n",
      "../data/GSE132802_RAW/SKIN_HV2.h5\n",
      "../data/GSE132802_RAW/SKIN_HV1_F2.h5\n",
      "../data/GSE132802_RAW/DRESS_Day4_TOFA.h5\n",
      "../data/GSE132802_RAW/SKIN_HV5.h5\n",
      "../data/GSE132802_RAW/PBMC_HV.h5\n",
      "../data/GSE132802_RAW/DRESS_Day4_BACT.h5\n",
      "../data/GSE132802_RAW/SKIN_HV4.h5\n",
      "../data/GSE132802_RAW/SKIN_HV3.h5\n",
      "../data/GSE132802_RAW/PBMC_POST2W.h5\n",
      "../data/GSE132802_RAW/PBMC_DRESS1.h5\n"
     ]
    }
   ],
   "source": [
    "import glob, os\n",
    "for file in glob.glob(\"../data/GSE132802_RAW/*.h5\"):\n",
    "    print(file)"
   ]
  },
  {
   "cell_type": "code",
   "execution_count": null,
   "metadata": {},
   "outputs": [],
   "source": []
  }
 ],
 "metadata": {
  "kernelspec": {
   "display_name": "Python 3",
   "language": "python",
   "name": "python3"
  },
  "language_info": {
   "codemirror_mode": {
    "name": "ipython",
    "version": 3
   },
   "file_extension": ".py",
   "mimetype": "text/x-python",
   "name": "python",
   "nbconvert_exporter": "python",
   "pygments_lexer": "ipython3",
   "version": "3.7.3"
  }
 },
 "nbformat": 4,
 "nbformat_minor": 4
}
