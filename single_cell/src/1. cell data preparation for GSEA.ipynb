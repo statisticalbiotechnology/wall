{
 "cells": [
  {
   "cell_type": "code",
   "execution_count": 4,
   "metadata": {},
   "outputs": [
    {
     "data": {
      "text/html": [
       "<style>.container { width:100% !important; }</style>"
      ],
      "text/plain": [
       "<IPython.core.display.HTML object>"
      ]
     },
     "metadata": {},
     "output_type": "display_data"
    }
   ],
   "source": [
    "import pandas as pd\n",
    "import h5py\n",
    "import numpy as np\n",
    "from IPython.core.display import display, HTML\n",
    "display(HTML(\"<style>.container { width:100% !important; }</style>\"))"
   ]
  },
  {
   "cell_type": "code",
   "execution_count": 5,
   "metadata": {},
   "outputs": [],
   "source": [
    "df = pd.DataFrame({\"indices\": np.array(h5py.File(\"../data/GSE132802_RAW/Skin_Dress1.h5\")[\"GRCh38\"][\"indices\"])})\n",
    "df2 = pd.DataFrame({\"data\":np.array(h5py.File(\"../data/GSE132802_RAW/Skin_Dress1.h5\")[\"GRCh38\"][\"data\"])})\n",
    "df3 = pd.DataFrame({\"data\":np.array(h5py.File(\"../data/GSE132802_RAW/Skin_Dress1.h5\")[\"GRCh38\"][\"genes\"])})\n",
    "df4 = pd.DataFrame({\"data\":np.array(h5py.File(\"../data/GSE132802_RAW/Skin_Dress1.h5\")[\"GRCh38\"][\"gene_names\"])})\n",
    "data_index_df = pd.concat([df, df2.reindex(df.index)], axis = 1)\n"
   ]
  },
  {
   "cell_type": "code",
   "execution_count": 7,
   "metadata": {},
   "outputs": [],
   "source": [
    "def fill_row_gene_name(row):\n",
    "    idx = row[\"indices\"]\n",
    "    gene = df4.loc[idx, \"data\"]\n",
    "    return gene.decode(\"utf-8\")\n",
    "def fill_row_gene(row):\n",
    "    idx = row[\"indices\"]\n",
    "    gene = df3.loc[idx, \"data\"]\n",
    "    return gene.decode(\"utf-8\")"
   ]
  },
  {
   "cell_type": "code",
   "execution_count": 8,
   "metadata": {
    "scrolled": true
   },
   "outputs": [],
   "source": [
    "data_index_df[\"gene_name\"] = data_index_df.apply(lambda row: fill_row_gene_name(row), axis=1)\n",
    "data_index_df[\"gene\"] = data_index_df.apply(lambda row: fill_row_gene(row), axis=1)"
   ]
  },
  {
   "cell_type": "code",
   "execution_count": 9,
   "metadata": {},
   "outputs": [
    {
     "name": "stdout",
     "output_type": "stream",
     "text": [
      "dict_values([4, 3])\n"
     ]
    }
   ],
   "source": [
    "sample = data_index_df.iloc[:10000]\n",
    "genedata = sample.loc[sample[\"gene_name\"]== \"ENO1\"].to_dict()\n",
    "print(genedata[\"data\"].values())\n",
    "new_df = pd.DataFrame()\n",
    "new_df[\"ENO1\"] = pd.Series(list(genedata[\"data\"].values()))\n",
    "\n"
   ]
  },
  {
   "cell_type": "code",
   "execution_count": 10,
   "metadata": {},
   "outputs": [],
   "source": [
    "gene_counts = pd.DataFrame()\n",
    "for i in data_index_df[\"gene_name\"].unique().tolist():\n",
    "    genedata = data_index_df.loc[data_index_df[\"gene_name\"] == i].to_dict()\n",
    "    gene_counts[i] = pd.Series(list(genedata[\"data\"].values()))"
   ]
  }
 ],
 "metadata": {
  "kernelspec": {
   "display_name": "Python 3",
   "language": "python",
   "name": "python3"
  },
  "language_info": {
   "codemirror_mode": {
    "name": "ipython",
    "version": 3
   },
   "file_extension": ".py",
   "mimetype": "text/x-python",
   "name": "python",
   "nbconvert_exporter": "python",
   "pygments_lexer": "ipython3",
   "version": "3.7.3"
  }
 },
 "nbformat": 4,
 "nbformat_minor": 2
}
