{
 "cells": [
  {
   "cell_type": "code",
   "execution_count": 4,
   "metadata": {},
   "outputs": [
    {
     "data": {
      "text/html": [
       "<style>.container { width:100% !important; }</style>"
      ],
      "text/plain": [
       "<IPython.core.display.HTML object>"
      ]
     },
     "metadata": {},
     "output_type": "display_data"
    }
   ],
   "source": [
    "import pandas as pd\n",
    "from IPython.core.display import display, HTML\n",
    "display(HTML(\"<style>.container { width:100% !important; }</style>\"))"
   ]
  },
  {
   "cell_type": "markdown",
   "metadata": {},
   "source": [
    "## make_data_files.py will generate the data, this makes the cls used in gsea"
   ]
  },
  {
   "cell_type": "code",
   "execution_count": 22,
   "metadata": {},
   "outputs": [],
   "source": [
    "hv1 = pd.read_csv(\"../data/finished_data_files/hv1.csv\", index_col = 0)\n",
    "hv1 = hv1.T\n",
    "hv1.columns = [f\"hv1_{x}\" for x in range(0, len(hv1.columns))]"
   ]
  },
  {
   "cell_type": "code",
   "execution_count": 30,
   "metadata": {},
   "outputs": [],
   "source": [
    "dress1 = pd.read_csv(\"../data/finished_data_files/dress1.csv\", index_col = 0)\n",
    "dress1 = dress1.T\n",
    "dress1.columns = [f\"dress1_{x}\" for x in range(0, len(dress1.columns))]"
   ]
  },
  {
   "cell_type": "code",
   "execution_count": 32,
   "metadata": {},
   "outputs": [],
   "source": [
    "hv2 = pd.read_csv(\"../data/finished_data_files/hv2.csv\", index_col = 0)\n",
    "hv2 = hv2.T\n",
    "hv2.columns = [f\"hv2_{x}\" for x in range(0, len(hv2.columns))]"
   ]
  },
  {
   "cell_type": "code",
   "execution_count": 33,
   "metadata": {},
   "outputs": [],
   "source": [
    "hv3 = pd.read_csv(\"../data/finished_data_files/hv3.csv\", index_col = 0)\n",
    "hv3 = hv3.T\n",
    "hv3.columns = [f\"hv3_{x}\" for x in range(0, len(hv3.columns))]"
   ]
  },
  {
   "cell_type": "code",
   "execution_count": 34,
   "metadata": {},
   "outputs": [],
   "source": [
    "hv4 = pd.read_csv(\"../data/finished_data_files/hv4.csv\", index_col = 0)\n",
    "hv4 = hv4.T\n",
    "hv4.columns = [f\"hv4_{x}\" for x in range(0, len(hv4.columns))]"
   ]
  },
  {
   "cell_type": "code",
   "execution_count": 35,
   "metadata": {},
   "outputs": [],
   "source": [
    "hv5 = pd.read_csv(\"../data/finished_data_files/hv5.csv\", index_col = 0)\n",
    "hv5 = hv5.T\n",
    "hv5.columns = [f\"hv5_{x}\" for x in range(0, len(hv5.columns))]"
   ]
  },
  {
   "cell_type": "code",
   "execution_count": 39,
   "metadata": {},
   "outputs": [],
   "source": [
    "concat_df = pd.concat([dress1, hv1.reindex(dress1.index)], axis = 1)\n",
    "concat_df = pd.concat([concat_df, hv2.reindex(concat_df.index)], axis = 1)\n",
    "concat_df = pd.concat([concat_df, hv3.reindex(concat_df.index)], axis = 1)\n",
    "concat_df = pd.concat([concat_df, hv4.reindex(concat_df.index)], axis = 1)\n",
    "concat_df = pd.concat([concat_df, hv5.reindex(concat_df.index)], axis = 1)"
   ]
  },
  {
   "cell_type": "code",
   "execution_count": 53,
   "metadata": {},
   "outputs": [],
   "source": [
    "concat_df.to_csv(\"../data/GSEA_df.csv\")"
   ]
  },
  {
   "cell_type": "code",
   "execution_count": 57,
   "metadata": {},
   "outputs": [],
   "source": [
    "#lets also make a pd series for annotating the sample HV or dress\n",
    "samples = list(concat_df.columns)\n",
    "sample_df= pd.DataFrame(index=samples)\n",
    "\n",
    "samplelist = []\n",
    "for i in samples:\n",
    "    if i.startswith(\"dress\"):\n",
    "        samplelist.append(\"DRESS\")\n",
    "    else:\n",
    "        samplelist.append(\"HV\")\n",
    "        \n",
    "sample_df[\"sample\"] = samplelist\n"
   ]
  },
  {
   "cell_type": "code",
   "execution_count": 54,
   "metadata": {},
   "outputs": [],
   "source": [
    "sample_df.to_csv(\"../data/GSEA_samples.csv\")"
   ]
  },
  {
   "cell_type": "code",
   "execution_count": null,
   "metadata": {},
   "outputs": [],
   "source": []
  },
  {
   "cell_type": "code",
   "execution_count": null,
   "metadata": {},
   "outputs": [],
   "source": []
  },
  {
   "cell_type": "code",
   "execution_count": null,
   "metadata": {},
   "outputs": [],
   "source": []
  }
 ],
 "metadata": {
  "kernelspec": {
   "display_name": "Python 3",
   "language": "python",
   "name": "python3"
  },
  "language_info": {
   "codemirror_mode": {
    "name": "ipython",
    "version": 3
   },
   "file_extension": ".py",
   "mimetype": "text/x-python",
   "name": "python",
   "nbconvert_exporter": "python",
   "pygments_lexer": "ipython3",
   "version": "3.7.3"
  }
 },
 "nbformat": 4,
 "nbformat_minor": 2
}
